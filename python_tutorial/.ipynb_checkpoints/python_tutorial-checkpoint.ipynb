{
 "cells": [
  {
   "cell_type": "markdown",
   "id": "ad9c3569-29f4-46a2-b5a6-def382dbf4f4",
   "metadata": {},
   "source": [
    "# Python tutorial for Data science\n",
    "> https://www.coursera.org/learn/python-for-applied-data-science-ai/"
   ]
  },
  {
   "cell_type": "markdown",
   "id": "85b8aa00-3703-454f-8d6a-9c62ca6fad63",
   "metadata": {
    "tags": []
   },
   "source": [
    "## Data Type for python"
   ]
  },
  {
   "cell_type": "markdown",
   "id": "8448d4fb-e4a5-4e57-bbbd-e1a508136050",
   "metadata": {},
   "source": [
    "1. Text Type : `str`\n",
    "2. Numeric Types : `int`, `float`, `complex`\n",
    "3. Sequence Types : `list`, `tuple`, `range`\n",
    "4. Mapping Type : `dict`\n",
    "5. Set Types : `set`, `frozenset`\n",
    "6. Boolean Type : `bool`\n",
    "7. Binary Types : `bytes`, `bytearray`, `memoryview`"
   ]
  },
  {
   "cell_type": "code",
   "execution_count": 14,
   "id": "6d34a342-8355-4e8e-9a96-2a94eb683cc7",
   "metadata": {
    "tags": []
   },
   "outputs": [
    {
     "name": "stdout",
     "output_type": "stream",
     "text": [
      "<class 'int'>\n",
      "<class 'float'>\n",
      "<class 'str'>\n"
     ]
    }
   ],
   "source": [
    "#using type() function to check data type\n",
    "print(type(11))\n",
    "print(type(11.11))\n",
    "print(type(\"Welcome to python\"))"
   ]
  },
  {
   "cell_type": "markdown",
   "id": "377a2482-669f-459b-becf-3fb13cb39f14",
   "metadata": {},
   "source": [
    "Data types are class in python "
   ]
  },
  {
   "cell_type": "markdown",
   "id": "bb0ff319-b146-4be6-9c9d-09d8d537b637",
   "metadata": {},
   "source": [
    "### Typecasting\n",
    "> Change certain type of data into other data type"
   ]
  },
  {
   "cell_type": "code",
   "execution_count": 1,
   "id": "12e35cd3-d435-4d14-9f27-8652166cfc0b",
   "metadata": {},
   "outputs": [
    {
     "name": "stdout",
     "output_type": "stream",
     "text": [
      "2.0\n",
      "<class 'float'>\n",
      "2\n",
      "<class 'int'>\n",
      "5\n",
      "<class 'str'>\n"
     ]
    },
    {
     "ename": "ValueError",
     "evalue": "invalid literal for int() with base 10: 'A'",
     "output_type": "error",
     "traceback": [
      "\u001b[1;31m---------------------------------------------------------------------------\u001b[0m",
      "\u001b[1;31mValueError\u001b[0m                                Traceback (most recent call last)",
      "\u001b[1;32m~\\AppData\\Local\\Temp/ipykernel_21600/1989641104.py\u001b[0m in \u001b[0;36m<module>\u001b[1;34m\u001b[0m\n\u001b[0;32m     29\u001b[0m \u001b[1;31m# use ord(), chr() function for ascii conversion\u001b[0m\u001b[1;33m\u001b[0m\u001b[1;33m\u001b[0m\u001b[1;33m\u001b[0m\u001b[0m\n\u001b[0;32m     30\u001b[0m \u001b[0ma\u001b[0m \u001b[1;33m=\u001b[0m \u001b[1;34m\"A\"\u001b[0m\u001b[1;33m\u001b[0m\u001b[1;33m\u001b[0m\u001b[0m\n\u001b[1;32m---> 31\u001b[1;33m \u001b[0ma\u001b[0m \u001b[1;33m=\u001b[0m \u001b[0mint\u001b[0m\u001b[1;33m(\u001b[0m\u001b[0ma\u001b[0m\u001b[1;33m)\u001b[0m\u001b[1;33m\u001b[0m\u001b[1;33m\u001b[0m\u001b[0m\n\u001b[0m\u001b[0;32m     32\u001b[0m \u001b[0mprint\u001b[0m\u001b[1;33m(\u001b[0m\u001b[0ma\u001b[0m\u001b[1;33m)\u001b[0m\u001b[1;33m\u001b[0m\u001b[1;33m\u001b[0m\u001b[0m\n\u001b[0;32m     33\u001b[0m \u001b[0mprint\u001b[0m\u001b[1;33m(\u001b[0m\u001b[0mtype\u001b[0m\u001b[1;33m(\u001b[0m\u001b[0ma\u001b[0m\u001b[1;33m)\u001b[0m\u001b[1;33m)\u001b[0m\u001b[1;33m\u001b[0m\u001b[1;33m\u001b[0m\u001b[0m\n",
      "\u001b[1;31mValueError\u001b[0m: invalid literal for int() with base 10: 'A'"
     ]
    }
   ],
   "source": [
    "# integer -> float\n",
    "# 2 -> 2.0\n",
    "# <class 'int'> -> <class 'float'>\n",
    "x = 2\n",
    "x = float(x)\n",
    "print(x) \n",
    "print(type(x)) \n",
    "\n",
    "\n",
    "\n",
    "# float -> integer\n",
    "# 2.34 -> 2\n",
    "# <class 'float'> -> <class 'int'>\n",
    "y = 2.34\n",
    "y = int(y)\n",
    "print(y)\n",
    "print(type(y))\n",
    "\n",
    "# int -> str\n",
    "# 5 -> \"5\"\n",
    "# <class 'int'> -> <class 'str'>\n",
    "z = 5\n",
    "z = str(z)\n",
    "print(z)\n",
    "print(type(z))\n",
    "\n",
    "# str -> int\n",
    "# Error occurred\n",
    "# use ord(), chr() function for ascii conversion\n",
    "a = \"A\"\n",
    "a = int(a)\n",
    "print(a)\n",
    "print(type(a))\n",
    "\n"
   ]
  },
  {
   "cell_type": "code",
   "execution_count": 2,
   "id": "af358bf6-ed4c-434c-9d61-1a80cc7cc46b",
   "metadata": {},
   "outputs": [
    {
     "name": "stdout",
     "output_type": "stream",
     "text": [
      "2.0\n",
      "<class 'float'>\n"
     ]
    }
   ],
   "source": [
    "x = 4/2\n",
    "print(x)\n",
    "print(type(x))"
   ]
  },
  {
   "cell_type": "markdown",
   "id": "dde96972-509e-443c-bb59-17d1a737ca94",
   "metadata": {},
   "source": [
    "### Interpreted Language VS Compiled Language"
   ]
  },
  {
   "cell_type": "markdown",
   "id": "89ba61ef-5927-4582-bb8b-3b158d6667c3",
   "metadata": {},
   "source": [
    "|             | Compiled Lang                                         | Interpreted Lang                    |\n",
    "|-------------|-------------------------------------------------------|-------------------------------------|\n",
    "| Environment | Compiler                                              | Interpreter                         |\n",
    "| Execution   | Code -> Compile -> Machine readable code -> Execution | Execute line by line by interpreter |\n",
    "| Pros        | Faster than interpreted programs                      | can be modified while running       |\n",
    "| Examples    | C, C++, C#                                            | PHP, Ruby, Python, JavaScript       |"
   ]
  },
  {
   "cell_type": "markdown",
   "id": "b24b6d87-5f2e-49fd-99da-ab0e5cae9092",
   "metadata": {},
   "source": [
    "### String"
   ]
  },
  {
   "cell_type": "markdown",
   "id": "8941f9bc-b4fc-473c-9375-15f5426a74a4",
   "metadata": {},
   "source": [
    "> String has characteristics of string and sequence"
   ]
  },
  {
   "cell_type": "markdown",
   "id": "ce0bac9b-0a48-48df-9919-260f54c5d245",
   "metadata": {},
   "source": [
    "### List"
   ]
  },
  {
   "cell_type": "markdown",
   "id": "534b1aa6-a5f3-46d4-ad90-ab776702e097",
   "metadata": {},
   "source": [
    "> list is almost sames as array in C language\n",
    "1. Lists are ordered.\n",
    "2. Lists can contain any arbitrary objects.\n",
    "3. List elements can be accessed by index.\n",
    "4. Lists can be nested to arbitrary depth.\n",
    "5. Lists are mutable.\n",
    "6. Lists are dynamic."
   ]
  },
  {
   "cell_type": "code",
   "execution_count": 6,
   "id": "f3a8a2dc-11d2-4488-aad3-a3e2b941ced2",
   "metadata": {},
   "outputs": [
    {
     "name": "stdout",
     "output_type": "stream",
     "text": [
      "['Michael Jackson', 10.1, 1982, 'MJ', 1]\n",
      "[10.1, 1982]\n",
      "['Michael Jackson', 10.1, 1982, 'MJ', 1, 'first extension', 1235]\n",
      "['Michael Jackson', 10.1, 1982, 'MJ', 1, 'first extension', 1235, 'second extension', 123]\n",
      "['Michael Jackson', 10.1, 1982, 'MJ', 1, 'first extension', 1235, 'second extension', 123, ['first appending', 4567]]\n"
     ]
    }
   ],
   "source": [
    "# create list\n",
    "L = [\"Michael Jackson\", 10.1,1982,\"MJ\",1]\n",
    "\n",
    "print(L)\n",
    "\n",
    "# Last index has not been included\n",
    "print(L[1:3])\n",
    "\n",
    "# Extend list\n",
    "A = ['first extension', 1235]\n",
    "L += A\n",
    "print(L)\n",
    "L.extend(['second extension', 123])\n",
    "print(L)\n",
    "\n",
    "# Append list\n",
    "L.append(['first appending',4567])\n",
    "print(L)\n",
    "\n"
   ]
  },
  {
   "cell_type": "markdown",
   "id": "44382c82-eeb7-4f02-bc21-9fdcca5e181a",
   "metadata": {},
   "source": [
    "> Reference in list ia made by address, So if you change certain list then all the variables referenced the list has been effected"
   ]
  },
  {
   "cell_type": "code",
   "execution_count": 9,
   "id": "6aa953d1-257e-47c9-9c18-03eb6e49ea4a",
   "metadata": {},
   "outputs": [
    {
     "name": "stdout",
     "output_type": "stream",
     "text": [
      "['Beetles', 10.1, 1982, 'MJ', 1, 'first extension', 1235, 'second extension', 123, ['first appending', 4567]]\n",
      "['Beetles', 10.1, 1982, 'MJ', 1, 'first extension', 1235, 'second extension', 123, ['first appending', 4567]]\n",
      "['Queen', 10.1, 1982, 'MJ', 1, 'first extension', 1235, 'second extension', 123, ['first appending', 4567]]\n",
      "['Queen', 10.1, 1982, 'MJ', 1, 'first extension', 1235, 'second extension', 123, ['first appending', 4567]]\n",
      "['Queen', 10.1, 1982, 'MJ', 1, 'first extension', 1235, 'second extension', 123, ['first appending', 4567]]\n",
      "['Queen', 10.1, 1982, 'MJ', 1, 'first extension', 1235, 'second extension', 123, ['first appending', 4567]]\n",
      "['Beetles', 10.1, 1982, 'MJ', 1, 'first extension', 1235, 'second extension', 123, ['first appending', 4567]]\n",
      "['Queen', 10.1, 1982, 'MJ', 1, 'first extension', 1235, 'second extension', 123, ['first appending', 4567]]\n"
     ]
    }
   ],
   "source": [
    "# Reference list(A and L refer sames list in the memory)\n",
    "\n",
    "A = L\n",
    "print(L)\n",
    "print(A)\n",
    "\n",
    "# Change list\n",
    "\n",
    "L[0] = 'Queen'\n",
    "print(L)\n",
    "print(A)\n",
    "\n",
    "# Clone list\n",
    "\n",
    "B = L[:]\n",
    "print(L)\n",
    "print(B)\n",
    "\n",
    "# Change list\n",
    "\n",
    "L[0] = 'Beetles'\n",
    "print(L)\n",
    "print(B) # B has not been effected after changing element in L list because B refer different list which is located differet memory address with L list"
   ]
  },
  {
   "cell_type": "markdown",
   "id": "1d068787-b200-4d59-b3cf-a97cf2960cad",
   "metadata": {},
   "source": [
    "### Tuple"
   ]
  },
  {
   "cell_type": "markdown",
   "id": "c8bf4a27-265f-4363-bfc9-57caeec3128f",
   "metadata": {},
   "source": [
    "1. Tuples are defined by enclosing the elements in parentheses (()) instead of square brackets ([]).\n",
    "2. Tuples are immutable."
   ]
  },
  {
   "cell_type": "code",
   "execution_count": 10,
   "id": "4cca5bf0-c2f8-4521-af3c-8d42ad3df7b1",
   "metadata": {},
   "outputs": [
    {
     "name": "stdout",
     "output_type": "stream",
     "text": [
      "('disco', 10, 1.2)\n"
     ]
    }
   ],
   "source": [
    "# Create tuple\n",
    "tuple1 = (\"disco\",10,1.2 )\n",
    "print(tuple1)\n"
   ]
  },
  {
   "cell_type": "markdown",
   "id": "f06fbbbf-48f9-452e-b846-598409ef20b1",
   "metadata": {},
   "source": [
    "### Dictionaries\n",
    "\n",
    "> Dictionaries is another data type by using keys and values"
   ]
  },
  {
   "cell_type": "code",
   "execution_count": 1,
   "id": "96ae5683-decf-4a1d-955b-54f657051b96",
   "metadata": {},
   "outputs": [
    {
     "name": "stdout",
     "output_type": "stream",
     "text": [
      "{'Thriller': '1982', 'Back in Black': '1980', 'The Dark Side of the Moon': '1973', 'The Bodyguard': '1992', 'Bat Out of Hell': '1977', 'Their Greatest Hits (1971-1975)': '1976', 'Saturday Night Fever': '1977', 'Rumours': '1977'}\n"
     ]
    }
   ],
   "source": [
    "# Create dictionaries\n",
    "\n",
    "release_year_dict = {\"Thriller\": \"1982\", \"Back in Black\": \"1980\", \\\n",
    "                    \"The Dark Side of the Moon\": \"1973\", \"The Bodyguard\": \"1992\", \\\n",
    "                    \"Bat Out of Hell\": \"1977\", \"Their Greatest Hits (1971-1975)\": \"1976\", \\\n",
    "                    \"Saturday Night Fever\": \"1977\", \"Rumours\": \"1977\"}\n",
    "\n",
    "print(release_year_dict)"
   ]
  },
  {
   "cell_type": "code",
   "execution_count": 2,
   "id": "d223cef4-e232-4aab-a90d-84e966cf1367",
   "metadata": {},
   "outputs": [
    {
     "data": {
      "text/plain": [
       "'1982'"
      ]
     },
     "execution_count": 2,
     "metadata": {},
     "output_type": "execute_result"
    }
   ],
   "source": [
    "# get value by keys\n",
    "\n",
    "release_year_dict['Thriller']"
   ]
  },
  {
   "cell_type": "code",
   "execution_count": 8,
   "id": "796a3430-ca5c-4fb9-8933-d98f9639a408",
   "metadata": {},
   "outputs": [
    {
     "name": "stdout",
     "output_type": "stream",
     "text": [
      "dict_keys(['Thriller', 'Back in Black', 'The Dark Side of the Moon', 'The Bodyguard', 'Bat Out of Hell', 'Their Greatest Hits (1971-1975)', 'Saturday Night Fever', 'Rumours'])\n",
      "dict_values(['1982', '1980', '1973', '1992', '1977', '1976', '1977', '1977'])\n"
     ]
    }
   ],
   "source": [
    "# Get all keys\n",
    "\n",
    "print(release_year_dict.keys())\n",
    "\n",
    "# Get all values\n",
    "\n",
    "print(release_year_dict.values())\n"
   ]
  },
  {
   "cell_type": "code",
   "execution_count": 9,
   "id": "264aa1e3-28a0-4267-b896-6e6f03b0542a",
   "metadata": {},
   "outputs": [
    {
     "data": {
      "text/plain": [
       "{'Thriller': '1982',\n",
       " 'Back in Black': '1980',\n",
       " 'The Dark Side of the Moon': '1973',\n",
       " 'The Bodyguard': '1992',\n",
       " 'Bat Out of Hell': '1977',\n",
       " 'Their Greatest Hits (1971-1975)': '1976',\n",
       " 'Saturday Night Fever': '1977',\n",
       " 'Rumours': '1977',\n",
       " 'Graduation': '2007'}"
      ]
     },
     "execution_count": 9,
     "metadata": {},
     "output_type": "execute_result"
    }
   ],
   "source": [
    "# Append value with key into dictionary\n",
    "\n",
    "release_year_dict['Graduation'] = '2007'\n",
    "release_year_dict"
   ]
  },
  {
   "cell_type": "code",
   "execution_count": 10,
   "id": "edd6834c-e8b2-481d-a6fa-e22b9f765616",
   "metadata": {},
   "outputs": [
    {
     "data": {
      "text/plain": [
       "{'Back in Black': '1980',\n",
       " 'The Dark Side of the Moon': '1973',\n",
       " 'The Bodyguard': '1992',\n",
       " 'Bat Out of Hell': '1977',\n",
       " 'Their Greatest Hits (1971-1975)': '1976',\n",
       " 'Saturday Night Fever': '1977',\n",
       " 'Rumours': '1977',\n",
       " 'Graduation': '2007'}"
      ]
     },
     "execution_count": 10,
     "metadata": {},
     "output_type": "execute_result"
    }
   ],
   "source": [
    "# Delete entries by key\n",
    "\n",
    "del(release_year_dict['Thriller'])\n",
    "release_year_dict"
   ]
  },
  {
   "cell_type": "code",
   "execution_count": 11,
   "id": "03c6931d-82ca-428b-9d75-64789b6bb5b3",
   "metadata": {},
   "outputs": [
    {
     "data": {
      "text/plain": [
       "True"
      ]
     },
     "execution_count": 11,
     "metadata": {},
     "output_type": "execute_result"
    }
   ],
   "source": [
    "# Check index validation in dict\n",
    "\n",
    "\"Back in Black\" in release_year_dict"
   ]
  },
  {
   "cell_type": "code",
   "execution_count": 17,
   "id": "b770891a-9493-4534-873d-efdd6ae4b2b0",
   "metadata": {},
   "outputs": [
    {
     "name": "stdout",
     "output_type": "stream",
     "text": [
      "0\n",
      "Back in Black\n"
     ]
    }
   ],
   "source": [
    "# Get key by values (values -> index -> keys)\n",
    "# dict -> list needs to be done by using list function\n",
    "\n",
    "# first get index by using list.index(<value>)\n",
    "print(list(release_year_dict.values()).index('1980'))\n",
    "\n",
    "# After getting index we can find the key\n",
    "print(list(release_year_dict.keys())[list(release_year_dict.values()).index('1980')])"
   ]
  },
  {
   "cell_type": "markdown",
   "id": "4729915a-c51c-4b36-a06f-b68f74341431",
   "metadata": {},
   "source": [
    "### Sets\n",
    "\n",
    "> Set is unique collection of objects in Python\n",
    "> When you create sets, duplicated objects will be removed"
   ]
  },
  {
   "cell_type": "code",
   "execution_count": 25,
   "id": "24254a0b-06a9-4285-9707-42434d3a09eb",
   "metadata": {},
   "outputs": [
    {
     "data": {
      "text/plain": [
       "{'NY', 'Paris', 'Seoul', 'Tokyo'}"
      ]
     },
     "execution_count": 25,
     "metadata": {},
     "output_type": "execute_result"
    }
   ],
   "source": [
    "# Create a set\n",
    "\n",
    "set1 = {\"Seoul\", \"NY\", \"Paris\", \"NY\", \"Tokyo\", \"Seoul\"}\n",
    "set1"
   ]
  },
  {
   "cell_type": "code",
   "execution_count": 26,
   "id": "bcc9c382-881d-4164-a50b-b4bb28651f5d",
   "metadata": {},
   "outputs": [
    {
     "data": {
      "text/plain": [
       "{'Berlin', 'NY', 'Paris', 'Seoul', 'Tokyo'}"
      ]
     },
     "execution_count": 26,
     "metadata": {},
     "output_type": "execute_result"
    }
   ],
   "source": [
    "# Add element to set\n",
    "\n",
    "set1.add(\"Berlin\")\n",
    "set1"
   ]
  },
  {
   "cell_type": "code",
   "execution_count": 27,
   "id": "53d21e46-4446-4d50-b5d0-81acd4feb59a",
   "metadata": {},
   "outputs": [
    {
     "data": {
      "text/plain": [
       "{'Berlin', 'NY', 'Paris', 'Tokyo'}"
      ]
     },
     "execution_count": 27,
     "metadata": {},
     "output_type": "execute_result"
    }
   ],
   "source": [
    "# Remove element from set\n",
    "\n",
    "set1.remove(\"Seoul\")\n",
    "set1"
   ]
  },
  {
   "cell_type": "code",
   "execution_count": 34,
   "id": "a0fb0592-2331-45d4-a9b4-2ddb14f6bdec",
   "metadata": {},
   "outputs": [
    {
     "name": "stdout",
     "output_type": "stream",
     "text": [
      "{'Berlin', 'Tokyo', 'Paris', 'NY'} {'Seoul', 'NY', 'Paris'}\n",
      "{'NY', 'Paris'}\n",
      "{'NY', 'Paris'}\n"
     ]
    }
   ],
   "source": [
    "# Intersection between two sets\n",
    "\n",
    "set2 = {\"Seoul\", \"NY\", \"Paris\"}\n",
    "\n",
    "print(set1, set2)\n",
    "\n",
    "intersection = set1 & set2\n",
    "\n",
    "# Below code work same\n",
    "print(intersection)\n",
    "print(set1.intersection(set2))"
   ]
  },
  {
   "cell_type": "code",
   "execution_count": 42,
   "id": "51681136-a377-4675-8907-d2275c225ff8",
   "metadata": {},
   "outputs": [
    {
     "name": "stdout",
     "output_type": "stream",
     "text": [
      "{'Tokyo', 'Berlin'}\n",
      "{'Tokyo', 'Berlin'}\n",
      "{'Seoul'}\n",
      "{'Seoul'}\n"
     ]
    }
   ],
   "source": [
    "# Difference between two sets\n",
    "\n",
    "print(set1.difference(set2))\n",
    "print(set1 - set2)\n",
    "\n",
    "print(set2.difference(set1))\n",
    "print(set2 - set1)"
   ]
  },
  {
   "cell_type": "code",
   "execution_count": 46,
   "id": "52c5ae84-8e16-4379-b2f5-54941d941267",
   "metadata": {},
   "outputs": [
    {
     "name": "stdout",
     "output_type": "stream",
     "text": [
      "{'Seoul', 'NY', 'Berlin', 'Tokyo', 'Paris'}\n"
     ]
    }
   ],
   "source": [
    "# Union of two sets\n",
    "\n",
    "print(set1.union(set2))"
   ]
  },
  {
   "cell_type": "code",
   "execution_count": 48,
   "id": "f592c6d2-2030-4a94-80a7-a29dc1747a1c",
   "metadata": {},
   "outputs": [
    {
     "name": "stdout",
     "output_type": "stream",
     "text": [
      "False\n",
      "True\n"
     ]
    }
   ],
   "source": [
    "# Check superset or subset\n",
    "\n",
    "set3 = {\"Tokyo\", \"Berlin\"}\n",
    "\n",
    "print(set3.issuperset(set1))\n",
    "print(set3.issubset(set1))"
   ]
  },
  {
   "cell_type": "markdown",
   "id": "fd937632-acbd-4e48-ae2b-55efb9cdb6c8",
   "metadata": {},
   "source": [
    "### Loops\n",
    "\n",
    "> for vs while loop"
   ]
  },
  {
   "cell_type": "code",
   "execution_count": 9,
   "id": "41ba6c47-d463-48cc-8a75-ec395097a322",
   "metadata": {},
   "outputs": [
    {
     "name": "stdout",
     "output_type": "stream",
     "text": [
      "range(0, 3)\n",
      "[0, 1, 2]\n"
     ]
    }
   ],
   "source": [
    "# range object, range(\n",
    "# range object is used for iterative function\n",
    "\n",
    "print(range(3)) # print range object\n",
    "print(list(range(3))) # print range object after converting to list\n"
   ]
  },
  {
   "cell_type": "code",
   "execution_count": 10,
   "id": "95ded852-9392-4f3a-be89-ff3b5f923151",
   "metadata": {},
   "outputs": [
    {
     "name": "stdout",
     "output_type": "stream",
     "text": [
      "0\n",
      "1\n",
      "2\n"
     ]
    }
   ],
   "source": [
    "# for loops by using range\n",
    "\n",
    "for i in range(3):\n",
    "    print(i)"
   ]
  },
  {
   "cell_type": "code",
   "execution_count": 16,
   "id": "ef16f601-4bdb-48fd-b81d-c5df8549cba1",
   "metadata": {},
   "outputs": [
    {
     "name": "stdout",
     "output_type": "stream",
     "text": [
      "Super Mario\n",
      "Call of Duty\n",
      "GTA5\n",
      "Witcher3\n",
      "Super Mario\n",
      "Call of Duty\n",
      "GTA5\n",
      "Witcher3\n"
     ]
    }
   ],
   "source": [
    "# for loop example\n",
    "\n",
    "games = [\"Super Mario\", \"Call of Duty\", \"GTA5\", \"Witcher3\"]\n",
    "\n",
    "# for loop by using range\n",
    "\n",
    "for i in range(len(games)):\n",
    "    print(games[i])\n",
    "\n",
    "# for loop directly in list element\n",
    "\n",
    "for game in games:\n",
    "    print(game)\n",
    "    \n"
   ]
  },
  {
   "cell_type": "code",
   "execution_count": null,
   "id": "a1997662-e9f1-43af-bcc7-51daab727fa7",
   "metadata": {},
   "outputs": [],
   "source": []
  }
 ],
 "metadata": {
  "kernelspec": {
   "display_name": "Python 3 (ipykernel)",
   "language": "python",
   "name": "python3"
  },
  "language_info": {
   "codemirror_mode": {
    "name": "ipython",
    "version": 3
   },
   "file_extension": ".py",
   "mimetype": "text/x-python",
   "name": "python",
   "nbconvert_exporter": "python",
   "pygments_lexer": "ipython3",
   "version": "3.9.6"
  }
 },
 "nbformat": 4,
 "nbformat_minor": 5
}
