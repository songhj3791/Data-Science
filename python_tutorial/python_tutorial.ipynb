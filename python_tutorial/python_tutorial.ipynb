{
 "cells": [
  {
   "cell_type": "markdown",
   "id": "ad9c3569-29f4-46a2-b5a6-def382dbf4f4",
   "metadata": {},
   "source": [
    "# Python tutorial for Data science\n",
    "> https://www.coursera.org/learn/python-for-applied-data-science-ai/"
   ]
  },
  {
   "cell_type": "markdown",
   "id": "85b8aa00-3703-454f-8d6a-9c62ca6fad63",
   "metadata": {
    "tags": []
   },
   "source": [
    "## Data Type for python"
   ]
  },
  {
   "cell_type": "markdown",
   "id": "8448d4fb-e4a5-4e57-bbbd-e1a508136050",
   "metadata": {},
   "source": [
    "1. Text Type : `str`\n",
    "2. Numeric Types : `int`, `float`, `complex`\n",
    "3. Sequence Types : `list`, `tuple`, `range`\n",
    "4. Mapping Type : `dict`\n",
    "5. Set Types : `set`, `frozenset`\n",
    "6. Boolean Type : `bool`\n",
    "7. Binary Types : `bytes`, `bytearray`, `memoryview`"
   ]
  },
  {
   "cell_type": "code",
   "execution_count": 14,
   "id": "6d34a342-8355-4e8e-9a96-2a94eb683cc7",
   "metadata": {
    "tags": []
   },
   "outputs": [
    {
     "name": "stdout",
     "output_type": "stream",
     "text": [
      "<class 'int'>\n",
      "<class 'float'>\n",
      "<class 'str'>\n"
     ]
    }
   ],
   "source": [
    "#using type() function to check data type\n",
    "print(type(11))\n",
    "print(type(11.11))\n",
    "print(type(\"Welcome to python\"))"
   ]
  },
  {
   "cell_type": "markdown",
   "id": "377a2482-669f-459b-becf-3fb13cb39f14",
   "metadata": {},
   "source": [
    "Data types are class in python "
   ]
  },
  {
   "cell_type": "markdown",
   "id": "bb0ff319-b146-4be6-9c9d-09d8d537b637",
   "metadata": {},
   "source": [
    "### Typecasting\n",
    "> Change certain type of data into other data type"
   ]
  },
  {
   "cell_type": "code",
   "execution_count": 27,
   "id": "12e35cd3-d435-4d14-9f27-8652166cfc0b",
   "metadata": {},
   "outputs": [
    {
     "name": "stdout",
     "output_type": "stream",
     "text": [
      "2.0\n",
      "<class 'float'>\n",
      "2\n",
      "<class 'int'>\n",
      "5\n",
      "<class 'str'>\n"
     ]
    },
    {
     "ename": "ValueError",
     "evalue": "invalid literal for int() with base 10: 'A'",
     "output_type": "error",
     "traceback": [
      "\u001b[1;31m---------------------------------------------------------------------------\u001b[0m",
      "\u001b[1;31mValueError\u001b[0m                                Traceback (most recent call last)",
      "\u001b[1;32m~\\AppData\\Local\\Temp/ipykernel_11248/2020070551.py\u001b[0m in \u001b[0;36m<module>\u001b[1;34m\u001b[0m\n\u001b[0;32m     29\u001b[0m \u001b[1;31m# use ord(), chr() function for ascii conversion\u001b[0m\u001b[1;33m\u001b[0m\u001b[1;33m\u001b[0m\u001b[1;33m\u001b[0m\u001b[0m\n\u001b[0;32m     30\u001b[0m \u001b[0ma\u001b[0m \u001b[1;33m=\u001b[0m \u001b[1;34m\"A\"\u001b[0m\u001b[1;33m\u001b[0m\u001b[1;33m\u001b[0m\u001b[0m\n\u001b[1;32m---> 31\u001b[1;33m \u001b[0ma\u001b[0m \u001b[1;33m=\u001b[0m \u001b[0mint\u001b[0m\u001b[1;33m(\u001b[0m\u001b[0ma\u001b[0m\u001b[1;33m)\u001b[0m\u001b[1;33m\u001b[0m\u001b[1;33m\u001b[0m\u001b[0m\n\u001b[0m\u001b[0;32m     32\u001b[0m \u001b[0mprint\u001b[0m\u001b[1;33m(\u001b[0m\u001b[0ma\u001b[0m\u001b[1;33m)\u001b[0m\u001b[1;33m\u001b[0m\u001b[1;33m\u001b[0m\u001b[0m\n\u001b[0;32m     33\u001b[0m \u001b[0mprint\u001b[0m\u001b[1;33m(\u001b[0m\u001b[0mtype\u001b[0m\u001b[1;33m(\u001b[0m\u001b[0ma\u001b[0m\u001b[1;33m)\u001b[0m\u001b[1;33m)\u001b[0m\u001b[1;33m\u001b[0m\u001b[1;33m\u001b[0m\u001b[0m\n",
      "\u001b[1;31mValueError\u001b[0m: invalid literal for int() with base 10: 'A'"
     ]
    }
   ],
   "source": [
    "# integer -> float\n",
    "# 2 -> 2.0\n",
    "# <class 'int'> -> <class 'float'>\n",
    "x = 2\n",
    "x = float(x)\n",
    "print(x) \n",
    "print(type(x)) \n",
    "\n",
    "\n",
    "\n",
    "# float -> integer\n",
    "# 2.34 -> 2\n",
    "# <class 'float'> -> <class 'int'>\n",
    "y = 2.34\n",
    "y = int(y)\n",
    "print(y)\n",
    "print(type(y))\n",
    "\n",
    "# int -> str\n",
    "# 5 -> \"5\"\n",
    "# <class 'int'> -> <class 'str'>\n",
    "z = 5\n",
    "z = str(z)\n",
    "print(z)\n",
    "print(type(z))\n",
    "\n",
    "# str -> int\n",
    "# Error occurred\n",
    "# use ord(), chr() function for ascii conversion\n",
    "a = \"A\"\n",
    "a = int(a)\n",
    "print(a)\n",
    "print(type(a))\n",
    "\n"
   ]
  },
  {
   "cell_type": "code",
   "execution_count": 28,
   "id": "af358bf6-ed4c-434c-9d61-1a80cc7cc46b",
   "metadata": {},
   "outputs": [
    {
     "name": "stdout",
     "output_type": "stream",
     "text": [
      "2.0\n",
      "<class 'float'>\n"
     ]
    }
   ],
   "source": [
    "x = 4/2\n",
    "print(x)\n",
    "print(type(x))"
   ]
  },
  {
   "cell_type": "markdown",
   "id": "dde96972-509e-443c-bb59-17d1a737ca94",
   "metadata": {},
   "source": [
    "### Interpreted Language VS Compiled Language"
   ]
  },
  {
   "cell_type": "code",
   "execution_count": null,
   "id": "daacac20-7e87-4f47-a417-37f13507ebc9",
   "metadata": {},
   "outputs": [],
   "source": [
    "> "
   ]
  }
 ],
 "metadata": {
  "kernelspec": {
   "display_name": "Python 3 (ipykernel)",
   "language": "python",
   "name": "python3"
  },
  "language_info": {
   "codemirror_mode": {
    "name": "ipython",
    "version": 3
   },
   "file_extension": ".py",
   "mimetype": "text/x-python",
   "name": "python",
   "nbconvert_exporter": "python",
   "pygments_lexer": "ipython3",
   "version": "3.9.6"
  }
 },
 "nbformat": 4,
 "nbformat_minor": 5
}
