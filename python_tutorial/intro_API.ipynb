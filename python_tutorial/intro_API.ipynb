{
 "cells": [
  {
   "cell_type": "markdown",
   "id": "fee32476-d6e3-49a7-b8a1-7663fdeeedba",
   "metadata": {},
   "source": [
    "### API"
   ]
  },
  {
   "cell_type": "markdown",
   "id": "772f66ee-d51c-4271-b1f8-7438b9fbcc98",
   "metadata": {},
   "source": [
    "> Application Program Interface<br>\n",
    "API help SW to make interacton between SW by SW"
   ]
  },
  {
   "cell_type": "code",
   "execution_count": 4,
   "id": "eb1b6862-e450-47b3-ad7d-590c87b0a065",
   "metadata": {},
   "outputs": [
    {
     "name": "stdout",
     "output_type": "stream",
     "text": [
      "Collecting pycoingecko\n"
     ]
    },
    {
     "name": "stderr",
     "output_type": "stream",
     "text": [
      "WARNING: You are using pip version 21.2.2; however, version 21.2.4 is available.\n",
      "You should consider upgrading via the 'c:\\users\\songh\\appdata\\local\\programs\\python\\python39\\python.exe -m pip install --upgrade pip' command.\n"
     ]
    },
    {
     "name": "stdout",
     "output_type": "stream",
     "text": [
      "  Downloading pycoingecko-2.2.0-py3-none-any.whl (8.3 kB)\n",
      "Requirement already satisfied: requests in c:\\users\\songh\\appdata\\local\\programs\\python\\python39\\lib\\site-packages (from pycoingecko) (2.26.0)\n",
      "Requirement already satisfied: certifi>=2017.4.17 in c:\\users\\songh\\appdata\\local\\programs\\python\\python39\\lib\\site-packages (from requests->pycoingecko) (2021.5.30)\n",
      "Requirement already satisfied: idna<4,>=2.5 in c:\\users\\songh\\appdata\\local\\programs\\python\\python39\\lib\\site-packages (from requests->pycoingecko) (3.2)\n",
      "Requirement already satisfied: urllib3<1.27,>=1.21.1 in c:\\users\\songh\\appdata\\local\\programs\\python\\python39\\lib\\site-packages (from requests->pycoingecko) (1.26.6)\n",
      "Requirement already satisfied: charset-normalizer~=2.0.0 in c:\\users\\songh\\appdata\\local\\programs\\python\\python39\\lib\\site-packages (from requests->pycoingecko) (2.0.4)\n",
      "Installing collected packages: pycoingecko\n",
      "Successfully installed pycoingecko-2.2.0\n",
      "Collecting plotly\n",
      "  Downloading plotly-5.2.2-py2.py3-none-any.whl (21.8 MB)\n",
      "Requirement already satisfied: six in c:\\users\\songh\\appdata\\local\\programs\\python\\python39\\lib\\site-packages (from plotly) (1.16.0)\n",
      "Collecting tenacity>=6.2.0\n",
      "  Downloading tenacity-8.0.1-py3-none-any.whl (24 kB)\n",
      "Installing collected packages: tenacity, plotly\n",
      "Successfully installed plotly-5.2.2 tenacity-8.0.1\n"
     ]
    },
    {
     "name": "stderr",
     "output_type": "stream",
     "text": [
      "WARNING: You are using pip version 21.2.2; however, version 21.2.4 is available.\n",
      "You should consider upgrading via the 'c:\\users\\songh\\appdata\\local\\programs\\python\\python39\\python.exe -m pip install --upgrade pip' command.\n"
     ]
    },
    {
     "name": "stdout",
     "output_type": "stream",
     "text": [
      "Collecting mplfinance\n",
      "  Downloading mplfinance-0.12.7a17-py3-none-any.whl (62 kB)\n",
      "Collecting pandas\n",
      "  Downloading pandas-1.3.2-cp39-cp39-win_amd64.whl (10.2 MB)\n",
      "Collecting matplotlib\n",
      "  Downloading matplotlib-3.4.3-cp39-cp39-win_amd64.whl (7.1 MB)\n",
      "Requirement already satisfied: python-dateutil>=2.7 in c:\\users\\songh\\appdata\\local\\programs\\python\\python39\\lib\\site-packages (from matplotlib->mplfinance) (2.8.2)\n",
      "Collecting numpy>=1.16\n",
      "  Downloading numpy-1.21.2-cp39-cp39-win_amd64.whl (14.0 MB)\n",
      "Collecting cycler>=0.10\n",
      "  Downloading cycler-0.10.0-py2.py3-none-any.whl (6.5 kB)\n",
      "Collecting pillow>=6.2.0\n",
      "  Downloading Pillow-8.3.1-1-cp39-cp39-win_amd64.whl (3.2 MB)\n",
      "Requirement already satisfied: pyparsing>=2.2.1 in c:\\users\\songh\\appdata\\local\\programs\\python\\python39\\lib\\site-packages (from matplotlib->mplfinance) (2.4.7)\n",
      "Collecting kiwisolver>=1.0.1\n",
      "  Downloading kiwisolver-1.3.2-cp39-cp39-win_amd64.whl (52 kB)\n",
      "Requirement already satisfied: six in c:\\users\\songh\\appdata\\local\\programs\\python\\python39\\lib\\site-packages (from cycler>=0.10->matplotlib->mplfinance) (1.16.0)\n",
      "Requirement already satisfied: pytz>=2017.3 in c:\\users\\songh\\appdata\\local\\programs\\python\\python39\\lib\\site-packages (from pandas->mplfinance) (2021.1)\n",
      "Installing collected packages: pillow, numpy, kiwisolver, cycler, pandas, matplotlib, mplfinance\n",
      "Successfully installed cycler-0.10.0 kiwisolver-1.3.2 matplotlib-3.4.3 mplfinance-0.12.7a17 numpy-1.21.2 pandas-1.3.2 pillow-8.3.1\n"
     ]
    },
    {
     "name": "stderr",
     "output_type": "stream",
     "text": [
      "WARNING: You are using pip version 21.2.2; however, version 21.2.4 is available.\n",
      "You should consider upgrading via the 'c:\\users\\songh\\appdata\\local\\programs\\python\\python39\\python.exe -m pip install --upgrade pip' command.\n"
     ]
    }
   ],
   "source": [
    "!pip install pycoingecko\n",
    "!pip install plotly\n",
    "!pip install mplfinance\n",
    "\n",
    "#install package"
   ]
  },
  {
   "cell_type": "code",
   "execution_count": 7,
   "id": "21fdcb71-8ad5-40e7-b892-08fbe70d97dd",
   "metadata": {},
   "outputs": [],
   "source": [
    "import pandas as pd\n",
    "import numpy as np\n",
    "import plotly.graph_objects as go\n",
    "from plotly.offline import plot\n",
    "import matplotlib.pyplot as plt\n",
    "import datetime\n",
    "from pycoingecko import CoinGeckoAPI\n",
    "from mplfinance.original_flavor import candlestick2_ohlc"
   ]
  },
  {
   "cell_type": "code",
   "execution_count": 13,
   "id": "bd89210f-b379-4b4c-8fd7-940135b222e4",
   "metadata": {},
   "outputs": [
    {
     "name": "stdout",
     "output_type": "stream",
     "text": [
      "<pycoingecko.api.CoinGeckoAPI object at 0x0000021C374798B0>\n",
      "Help on CoinGeckoAPI in module pycoingecko.api object:\n",
      "\n",
      "class CoinGeckoAPI(builtins.object)\n",
      " |  CoinGeckoAPI(api_base_url='https://api.coingecko.com/api/v3/')\n",
      " |  \n",
      " |  Methods defined here:\n",
      " |  \n",
      " |  __init__(self, api_base_url='https://api.coingecko.com/api/v3/')\n",
      " |      Initialize self.  See help(type(self)) for accurate signature.\n",
      " |  \n",
      " |  get_asset_platforms = input_args(*args, **kwargs)\n",
      " |  \n",
      " |  get_coin_by_id = input_args(*args, **kwargs)\n",
      " |  \n",
      " |  get_coin_history_by_id = input_args(*args, **kwargs)\n",
      " |  \n",
      " |  get_coin_info_from_contract_address_by_id = input_args(*args, **kwargs)\n",
      " |  \n",
      " |  get_coin_market_chart_by_id = input_args(*args, **kwargs)\n",
      " |  \n",
      " |  get_coin_market_chart_from_contract_address_by_id = input_args(*args, **kwargs)\n",
      " |  \n",
      " |  get_coin_market_chart_range_by_id = input_args(*args, **kwargs)\n",
      " |  \n",
      " |  get_coin_market_chart_range_from_contract_address_by_id = input_args(*args, **kwargs)\n",
      " |  \n",
      " |  get_coin_ohlc_by_id = input_args(*args, **kwargs)\n",
      " |  \n",
      " |  get_coin_status_updates_by_id = input_args(*args, **kwargs)\n",
      " |  \n",
      " |  get_coin_ticker_by_id = input_args(*args, **kwargs)\n",
      " |  \n",
      " |  get_coins = input_args(*args, **kwargs)\n",
      " |  \n",
      " |  get_coins_categories = input_args(*args, **kwargs)\n",
      " |  \n",
      " |  get_coins_categories_list = input_args(*args, **kwargs)\n",
      " |  \n",
      " |  get_coins_list = input_args(*args, **kwargs)\n",
      " |  \n",
      " |  get_coins_markets = input_args(*args, **kwargs)\n",
      " |  \n",
      " |  get_companies_public_treasury_by_coin_id = input_args(*args, **kwargs)\n",
      " |  \n",
      " |  get_derivatives = input_args(*args, **kwargs)\n",
      " |  \n",
      " |  get_derivatives_exchanges = input_args(*args, **kwargs)\n",
      " |  \n",
      " |  get_derivatives_exchanges_by_id = input_args(*args, **kwargs)\n",
      " |  \n",
      " |  get_derivatives_exchanges_list = input_args(*args, **kwargs)\n",
      " |  \n",
      " |  get_events = input_args(*args, **kwargs)\n",
      " |  \n",
      " |  get_events_countries = input_args(*args, **kwargs)\n",
      " |  \n",
      " |  get_events_types = input_args(*args, **kwargs)\n",
      " |  \n",
      " |  get_exchange_rates = input_args(*args, **kwargs)\n",
      " |  \n",
      " |  get_exchanges_by_id = input_args(*args, **kwargs)\n",
      " |  \n",
      " |  get_exchanges_id_name_list = input_args(*args, **kwargs)\n",
      " |  \n",
      " |  get_exchanges_list = input_args(*args, **kwargs)\n",
      " |  \n",
      " |  get_exchanges_status_updates_by_id = input_args(*args, **kwargs)\n",
      " |  \n",
      " |  get_exchanges_tickers_by_id = input_args(*args, **kwargs)\n",
      " |  \n",
      " |  get_exchanges_volume_chart_by_id = input_args(*args, **kwargs)\n",
      " |  \n",
      " |  get_finance_platforms = input_args(*args, **kwargs)\n",
      " |  \n",
      " |  get_finance_products = input_args(*args, **kwargs)\n",
      " |  \n",
      " |  get_global = input_args(*args, **kwargs)\n",
      " |  \n",
      " |  get_global_decentralized_finance_defi = input_args(*args, **kwargs)\n",
      " |  \n",
      " |  get_indexes = input_args(*args, **kwargs)\n",
      " |  \n",
      " |  get_indexes_by_market_id_and_index_id = input_args(*args, **kwargs)\n",
      " |  \n",
      " |  get_indexes_list = input_args(*args, **kwargs)\n",
      " |  \n",
      " |  get_price = input_args(*args, **kwargs)\n",
      " |  \n",
      " |  get_search_trending = input_args(*args, **kwargs)\n",
      " |  \n",
      " |  get_status_updates = input_args(*args, **kwargs)\n",
      " |  \n",
      " |  get_supported_vs_currencies = input_args(*args, **kwargs)\n",
      " |  \n",
      " |  get_token_price = input_args(*args, **kwargs)\n",
      " |  \n",
      " |  ping(self)\n",
      " |      Check API server status\n",
      " |  \n",
      " |  ----------------------------------------------------------------------\n",
      " |  Data descriptors defined here:\n",
      " |  \n",
      " |  __dict__\n",
      " |      dictionary for instance variables (if defined)\n",
      " |  \n",
      " |  __weakref__\n",
      " |      list of weak references to the object (if defined)\n",
      "\n",
      "Help on method input_args in module pycoingecko.utils:\n",
      "\n",
      "input_args(*args, **kwargs) method of pycoingecko.api.CoinGeckoAPI instance\n",
      "\n"
     ]
    }
   ],
   "source": [
    "cg = CoinGeckoAPI()\n",
    "print(cg)\n",
    "help(cg)\n",
    "help(cg.get_coin_market_chart_by_id)\n",
    "\n",
    "bitcoin_chart = cg.get_coin_market_chart_by_id('bitcoin', vs_currency='usd', days=30)\n",
    "\n",
    "# bitcoin_data = cg.get_coin_market_chart_by_id(id="
   ]
  },
  {
   "cell_type": "code",
   "execution_count": null,
   "id": "f30ff9b6-ea05-420d-be59-37480c6db41f",
   "metadata": {},
   "outputs": [],
   "source": []
  }
 ],
 "metadata": {
  "kernelspec": {
   "display_name": "Python 3 (ipykernel)",
   "language": "python",
   "name": "python3"
  },
  "language_info": {
   "codemirror_mode": {
    "name": "ipython",
    "version": 3
   },
   "file_extension": ".py",
   "mimetype": "text/x-python",
   "name": "python",
   "nbconvert_exporter": "python",
   "pygments_lexer": "ipython3",
   "version": "3.9.6"
  }
 },
 "nbformat": 4,
 "nbformat_minor": 5
}
